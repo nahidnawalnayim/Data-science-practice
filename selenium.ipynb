{
 "cells": [
  {
   "cell_type": "code",
   "execution_count": 120,
   "id": "edfb6377",
   "metadata": {},
   "outputs": [
    {
     "name": "stdout",
     "output_type": "stream",
     "text": [
      "Requirement already satisfied: selenium in c:\\users\\nayim nahid\\anaconda3\\lib\\site-packages (4.4.3)\n",
      "Requirement already satisfied: certifi>=2021.10.8 in c:\\users\\nayim nahid\\anaconda3\\lib\\site-packages (from selenium) (2021.10.8)\n",
      "Requirement already satisfied: urllib3[socks]~=1.26 in c:\\users\\nayim nahid\\anaconda3\\lib\\site-packages (from selenium) (1.26.9)\n",
      "Requirement already satisfied: trio-websocket~=0.9 in c:\\users\\nayim nahid\\anaconda3\\lib\\site-packages (from selenium) (0.9.2)\n",
      "Requirement already satisfied: trio~=0.17 in c:\\users\\nayim nahid\\anaconda3\\lib\\site-packages (from selenium) (0.21.0)\n",
      "Requirement already satisfied: idna in c:\\users\\nayim nahid\\anaconda3\\lib\\site-packages (from trio~=0.17->selenium) (3.3)\n",
      "Requirement already satisfied: attrs>=19.2.0 in c:\\users\\nayim nahid\\anaconda3\\lib\\site-packages (from trio~=0.17->selenium) (21.4.0)\n",
      "Requirement already satisfied: sortedcontainers in c:\\users\\nayim nahid\\anaconda3\\lib\\site-packages (from trio~=0.17->selenium) (2.4.0)\n",
      "Requirement already satisfied: cffi>=1.14 in c:\\users\\nayim nahid\\anaconda3\\lib\\site-packages (from trio~=0.17->selenium) (1.15.0)\n",
      "Requirement already satisfied: async-generator>=1.9 in c:\\users\\nayim nahid\\anaconda3\\lib\\site-packages (from trio~=0.17->selenium) (1.10)\n",
      "Requirement already satisfied: sniffio in c:\\users\\nayim nahid\\anaconda3\\lib\\site-packages (from trio~=0.17->selenium) (1.2.0)\n",
      "Requirement already satisfied: outcome in c:\\users\\nayim nahid\\anaconda3\\lib\\site-packages (from trio~=0.17->selenium) (1.2.0)\n",
      "Requirement already satisfied: pycparser in c:\\users\\nayim nahid\\anaconda3\\lib\\site-packages (from cffi>=1.14->trio~=0.17->selenium) (2.21)\n",
      "Requirement already satisfied: wsproto>=0.14 in c:\\users\\nayim nahid\\anaconda3\\lib\\site-packages (from trio-websocket~=0.9->selenium) (1.2.0)\n",
      "Requirement already satisfied: PySocks!=1.5.7,<2.0,>=1.5.6 in c:\\users\\nayim nahid\\anaconda3\\lib\\site-packages (from urllib3[socks]~=1.26->selenium) (1.7.1)\n",
      "Requirement already satisfied: h11<1,>=0.9.0 in c:\\users\\nayim nahid\\anaconda3\\lib\\site-packages (from wsproto>=0.14->trio-websocket~=0.9->selenium) (0.13.0)\n"
     ]
    }
   ],
   "source": [
    "!pip install selenium"
   ]
  },
  {
   "cell_type": "code",
   "execution_count": 121,
   "id": "4bb3f99b",
   "metadata": {},
   "outputs": [
    {
     "name": "stdout",
     "output_type": "stream",
     "text": [
      "Requirement already satisfied: webdriver-manager in c:\\users\\nayim nahid\\anaconda3\\lib\\site-packages (3.8.3)\n",
      "Requirement already satisfied: requests in c:\\users\\nayim nahid\\anaconda3\\lib\\site-packages (from webdriver-manager) (2.27.1)\n",
      "Requirement already satisfied: tqdm in c:\\users\\nayim nahid\\anaconda3\\lib\\site-packages (from webdriver-manager) (4.64.0)\n",
      "Requirement already satisfied: python-dotenv in c:\\users\\nayim nahid\\anaconda3\\lib\\site-packages (from webdriver-manager) (0.21.0)\n",
      "Requirement already satisfied: idna<4,>=2.5 in c:\\users\\nayim nahid\\anaconda3\\lib\\site-packages (from requests->webdriver-manager) (3.3)\n",
      "Requirement already satisfied: urllib3<1.27,>=1.21.1 in c:\\users\\nayim nahid\\anaconda3\\lib\\site-packages (from requests->webdriver-manager) (1.26.9)\n",
      "Requirement already satisfied: charset-normalizer~=2.0.0 in c:\\users\\nayim nahid\\anaconda3\\lib\\site-packages (from requests->webdriver-manager) (2.0.4)\n",
      "Requirement already satisfied: certifi>=2017.4.17 in c:\\users\\nayim nahid\\anaconda3\\lib\\site-packages (from requests->webdriver-manager) (2021.10.8)\n",
      "Requirement already satisfied: colorama in c:\\users\\nayim nahid\\anaconda3\\lib\\site-packages (from tqdm->webdriver-manager) (0.4.4)\n"
     ]
    }
   ],
   "source": [
    "!pip install webdriver-manager"
   ]
  },
  {
   "cell_type": "code",
   "execution_count": 122,
   "id": "fd2fe732",
   "metadata": {},
   "outputs": [
    {
     "name": "stdout",
     "output_type": "stream",
     "text": [
      "Requirement already satisfied: selenium in c:\\users\\nayim nahid\\anaconda3\\lib\\site-packages (4.4.3)\n",
      "Requirement already satisfied: urllib3[socks]~=1.26 in c:\\users\\nayim nahid\\anaconda3\\lib\\site-packages (from selenium) (1.26.9)\n",
      "Requirement already satisfied: trio~=0.17 in c:\\users\\nayim nahid\\anaconda3\\lib\\site-packages (from selenium) (0.21.0)\n",
      "Requirement already satisfied: certifi>=2021.10.8 in c:\\users\\nayim nahid\\anaconda3\\lib\\site-packages (from selenium) (2021.10.8)\n",
      "Requirement already satisfied: trio-websocket~=0.9 in c:\\users\\nayim nahid\\anaconda3\\lib\\site-packages (from selenium) (0.9.2)\n",
      "Requirement already satisfied: idna in c:\\users\\nayim nahid\\anaconda3\\lib\\site-packages (from trio~=0.17->selenium) (3.3)\n",
      "Requirement already satisfied: sortedcontainers in c:\\users\\nayim nahid\\anaconda3\\lib\\site-packages (from trio~=0.17->selenium) (2.4.0)\n",
      "Requirement already satisfied: cffi>=1.14 in c:\\users\\nayim nahid\\anaconda3\\lib\\site-packages (from trio~=0.17->selenium) (1.15.0)\n",
      "Requirement already satisfied: async-generator>=1.9 in c:\\users\\nayim nahid\\anaconda3\\lib\\site-packages (from trio~=0.17->selenium) (1.10)\n",
      "Requirement already satisfied: outcome in c:\\users\\nayim nahid\\anaconda3\\lib\\site-packages (from trio~=0.17->selenium) (1.2.0)\n",
      "Requirement already satisfied: sniffio in c:\\users\\nayim nahid\\anaconda3\\lib\\site-packages (from trio~=0.17->selenium) (1.2.0)\n",
      "Requirement already satisfied: attrs>=19.2.0 in c:\\users\\nayim nahid\\anaconda3\\lib\\site-packages (from trio~=0.17->selenium) (21.4.0)\n",
      "Requirement already satisfied: pycparser in c:\\users\\nayim nahid\\anaconda3\\lib\\site-packages (from cffi>=1.14->trio~=0.17->selenium) (2.21)\n",
      "Requirement already satisfied: wsproto>=0.14 in c:\\users\\nayim nahid\\anaconda3\\lib\\site-packages (from trio-websocket~=0.9->selenium) (1.2.0)\n",
      "Requirement already satisfied: PySocks!=1.5.7,<2.0,>=1.5.6 in c:\\users\\nayim nahid\\anaconda3\\lib\\site-packages (from urllib3[socks]~=1.26->selenium) (1.7.1)\n",
      "Requirement already satisfied: h11<1,>=0.9.0 in c:\\users\\nayim nahid\\anaconda3\\lib\\site-packages (from wsproto>=0.14->trio-websocket~=0.9->selenium) (0.13.0)\n"
     ]
    }
   ],
   "source": [
    "!pip install --upgrade selenium"
   ]
  },
  {
   "cell_type": "code",
   "execution_count": 123,
   "id": "6aa2ca14",
   "metadata": {},
   "outputs": [
    {
     "name": "stdout",
     "output_type": "stream",
     "text": [
      "Requirement already satisfied: requests-html in c:\\users\\nayim nahid\\anaconda3\\lib\\site-packages (0.10.0)\n",
      "Requirement already satisfied: parse in c:\\users\\nayim nahid\\anaconda3\\lib\\site-packages (from requests-html) (1.19.0)\n",
      "Requirement already satisfied: requests in c:\\users\\nayim nahid\\anaconda3\\lib\\site-packages (from requests-html) (2.27.1)\n",
      "Requirement already satisfied: fake-useragent in c:\\users\\nayim nahid\\anaconda3\\lib\\site-packages (from requests-html) (0.1.11)\n",
      "Requirement already satisfied: w3lib in c:\\users\\nayim nahid\\anaconda3\\lib\\site-packages (from requests-html) (1.21.0)\n",
      "Requirement already satisfied: bs4 in c:\\users\\nayim nahid\\anaconda3\\lib\\site-packages (from requests-html) (0.0.1)\n",
      "Requirement already satisfied: pyquery in c:\\users\\nayim nahid\\anaconda3\\lib\\site-packages (from requests-html) (1.4.3)\n",
      "Requirement already satisfied: pyppeteer>=0.0.14 in c:\\users\\nayim nahid\\anaconda3\\lib\\site-packages (from requests-html) (1.0.2)\n",
      "Requirement already satisfied: importlib-metadata>=1.4 in c:\\users\\nayim nahid\\anaconda3\\lib\\site-packages (from pyppeteer>=0.0.14->requests-html) (4.11.3)\n",
      "Requirement already satisfied: urllib3<2.0.0,>=1.25.8 in c:\\users\\nayim nahid\\anaconda3\\lib\\site-packages (from pyppeteer>=0.0.14->requests-html) (1.26.9)\n",
      "Requirement already satisfied: websockets<11.0,>=10.0 in c:\\users\\nayim nahid\\anaconda3\\lib\\site-packages (from pyppeteer>=0.0.14->requests-html) (10.3)\n",
      "Requirement already satisfied: tqdm<5.0.0,>=4.42.1 in c:\\users\\nayim nahid\\anaconda3\\lib\\site-packages (from pyppeteer>=0.0.14->requests-html) (4.64.0)\n",
      "Requirement already satisfied: pyee<9.0.0,>=8.1.0 in c:\\users\\nayim nahid\\anaconda3\\lib\\site-packages (from pyppeteer>=0.0.14->requests-html) (8.2.2)\n",
      "Requirement already satisfied: certifi>=2021 in c:\\users\\nayim nahid\\anaconda3\\lib\\site-packages (from pyppeteer>=0.0.14->requests-html) (2021.10.8)\n",
      "Requirement already satisfied: appdirs<2.0.0,>=1.4.3 in c:\\users\\nayim nahid\\anaconda3\\lib\\site-packages (from pyppeteer>=0.0.14->requests-html) (1.4.4)\n",
      "Requirement already satisfied: zipp>=0.5 in c:\\users\\nayim nahid\\anaconda3\\lib\\site-packages (from importlib-metadata>=1.4->pyppeteer>=0.0.14->requests-html) (3.7.0)\n",
      "Requirement already satisfied: colorama in c:\\users\\nayim nahid\\anaconda3\\lib\\site-packages (from tqdm<5.0.0,>=4.42.1->pyppeteer>=0.0.14->requests-html) (0.4.4)\n",
      "Requirement already satisfied: beautifulsoup4 in c:\\users\\nayim nahid\\anaconda3\\lib\\site-packages (from bs4->requests-html) (4.11.1)\n",
      "Requirement already satisfied: soupsieve>1.2 in c:\\users\\nayim nahid\\anaconda3\\lib\\site-packages (from beautifulsoup4->bs4->requests-html) (2.3.1)\n",
      "Requirement already satisfied: cssselect>0.7.9 in c:\\users\\nayim nahid\\anaconda3\\lib\\site-packages (from pyquery->requests-html) (1.1.0)\n",
      "Requirement already satisfied: lxml>=2.1 in c:\\users\\nayim nahid\\anaconda3\\lib\\site-packages (from pyquery->requests-html) (4.8.0)\n",
      "Requirement already satisfied: charset-normalizer~=2.0.0 in c:\\users\\nayim nahid\\anaconda3\\lib\\site-packages (from requests->requests-html) (2.0.4)\n",
      "Requirement already satisfied: idna<4,>=2.5 in c:\\users\\nayim nahid\\anaconda3\\lib\\site-packages (from requests->requests-html) (3.3)\n",
      "Requirement already satisfied: six>=1.4.1 in c:\\users\\nayim nahid\\anaconda3\\lib\\site-packages (from w3lib->requests-html) (1.16.0)\n"
     ]
    }
   ],
   "source": [
    "!pip install requests-html"
   ]
  },
  {
   "cell_type": "code",
   "execution_count": 124,
   "id": "a1f3fd0f",
   "metadata": {},
   "outputs": [],
   "source": [
    "import pandas as pd\n",
    "from selenium import webdriver\n",
    "from selenium.webdriver.common.keys import Keys\n",
    "from selenium.webdriver.common.by import By\n",
    "from selenium.webdriver.chrome.service import Service\n",
    "from selenium.webdriver.support.select import Select\n",
    "import requests\n",
    "from requests_html import HTMLSession\n",
    "from io import StringIO, BytesIO\n",
    "from PIL import Image\n",
    "from IPython.display import display, clear_output\n",
    "import time"
   ]
  },
  {
   "cell_type": "code",
   "execution_count": 224,
   "id": "d9ca0fad",
   "metadata": {},
   "outputs": [
    {
     "name": "stdout",
     "output_type": "stream",
     "text": [
      "20\n",
      "https://www.airbnb.com/rooms/33032352?adults=1&category_tag=Tag%3A675&children=0&infants=0&search_mode=flex_destinations_search&check_in=2022-10-12&check_out=2022-10-17&previous_page_section_name=1000&federated_search_id=fa681923-563c-4b19-9680-281aa4027640\n",
      "20\n",
      "https://www.airbnb.com/rooms/33032352?adults=1&category_tag=Tag%3A675&children=0&infants=0&search_mode=flex_destinations_search&check_in=2022-10-12&check_out=2022-10-17&previous_page_section_name=1000&federated_search_id=fa681923-563c-4b19-9680-281aa4027640\n",
      "20\n",
      "https://www.airbnb.com/rooms/33032352?adults=1&category_tag=Tag%3A675&children=0&infants=0&search_mode=flex_destinations_search&check_in=2022-10-12&check_out=2022-10-17&previous_page_section_name=1000&federated_search_id=fa681923-563c-4b19-9680-281aa4027640\n",
      "20\n",
      "https://www.airbnb.com/rooms/33032352?adults=1&category_tag=Tag%3A675&children=0&infants=0&search_mode=flex_destinations_search&check_in=2022-10-12&check_out=2022-10-17&previous_page_section_name=1000&federated_search_id=fa681923-563c-4b19-9680-281aa4027640\n",
      "20\n",
      "https://www.airbnb.com/rooms/33032352?adults=1&category_tag=Tag%3A675&children=0&infants=0&search_mode=flex_destinations_search&check_in=2022-10-12&check_out=2022-10-17&previous_page_section_name=1000&federated_search_id=fa681923-563c-4b19-9680-281aa4027640\n",
      "20\n",
      "https://www.airbnb.com/rooms/33032352?adults=1&category_tag=Tag%3A675&children=0&infants=0&search_mode=flex_destinations_search&check_in=2022-10-12&check_out=2022-10-17&previous_page_section_name=1000&federated_search_id=fa681923-563c-4b19-9680-281aa4027640\n",
      "20\n",
      "https://www.airbnb.com/rooms/33032352?adults=1&category_tag=Tag%3A675&children=0&infants=0&search_mode=flex_destinations_search&check_in=2022-10-12&check_out=2022-10-17&previous_page_section_name=1000&federated_search_id=fa681923-563c-4b19-9680-281aa4027640\n",
      "20\n",
      "https://www.airbnb.com/rooms/33032352?adults=1&category_tag=Tag%3A675&children=0&infants=0&search_mode=flex_destinations_search&check_in=2022-10-12&check_out=2022-10-17&previous_page_section_name=1000&federated_search_id=fa681923-563c-4b19-9680-281aa4027640\n",
      "20\n",
      "https://www.airbnb.com/rooms/33032352?adults=1&category_tag=Tag%3A675&children=0&infants=0&search_mode=flex_destinations_search&check_in=2022-10-12&check_out=2022-10-17&previous_page_section_name=1000&federated_search_id=fa681923-563c-4b19-9680-281aa4027640\n",
      "20\n",
      "https://www.airbnb.com/rooms/33032352?adults=1&category_tag=Tag%3A675&children=0&infants=0&search_mode=flex_destinations_search&check_in=2022-10-12&check_out=2022-10-17&previous_page_section_name=1000&federated_search_id=fa681923-563c-4b19-9680-281aa4027640\n",
      "20\n",
      "https://www.airbnb.com/rooms/33032352?adults=1&category_tag=Tag%3A675&children=0&infants=0&search_mode=flex_destinations_search&check_in=2022-10-12&check_out=2022-10-17&previous_page_section_name=1000&federated_search_id=fa681923-563c-4b19-9680-281aa4027640\n",
      "20\n",
      "https://www.airbnb.com/rooms/33032352?adults=1&category_tag=Tag%3A675&children=0&infants=0&search_mode=flex_destinations_search&check_in=2022-10-12&check_out=2022-10-17&previous_page_section_name=1000&federated_search_id=fa681923-563c-4b19-9680-281aa4027640\n",
      "20\n",
      "https://www.airbnb.com/rooms/33032352?adults=1&category_tag=Tag%3A675&children=0&infants=0&search_mode=flex_destinations_search&check_in=2022-10-12&check_out=2022-10-17&previous_page_section_name=1000&federated_search_id=fa681923-563c-4b19-9680-281aa4027640\n",
      "20\n",
      "https://www.airbnb.com/rooms/33032352?adults=1&category_tag=Tag%3A675&children=0&infants=0&search_mode=flex_destinations_search&check_in=2022-10-12&check_out=2022-10-17&previous_page_section_name=1000&federated_search_id=fa681923-563c-4b19-9680-281aa4027640\n",
      "20\n",
      "https://www.airbnb.com/rooms/33032352?adults=1&category_tag=Tag%3A675&children=0&infants=0&search_mode=flex_destinations_search&check_in=2022-10-12&check_out=2022-10-17&previous_page_section_name=1000&federated_search_id=fa681923-563c-4b19-9680-281aa4027640\n",
      "20\n",
      "https://www.airbnb.com/rooms/33032352?adults=1&category_tag=Tag%3A675&children=0&infants=0&search_mode=flex_destinations_search&check_in=2022-10-12&check_out=2022-10-17&previous_page_section_name=1000&federated_search_id=fa681923-563c-4b19-9680-281aa4027640\n",
      "20\n",
      "https://www.airbnb.com/rooms/33032352?adults=1&category_tag=Tag%3A675&children=0&infants=0&search_mode=flex_destinations_search&check_in=2022-10-12&check_out=2022-10-17&previous_page_section_name=1000&federated_search_id=fa681923-563c-4b19-9680-281aa4027640\n"
     ]
    }
   ],
   "source": [
    "s=Service('chromedriver')\n",
    "driver=webdriver.Chrome(service=s)\n",
    "single_page_urls=[]\n",
    "start=time.time()\n",
    "for p in range(1,2):\n",
    "    bikroy_url=\"https://www.airbnb.com/?tab_id=home_tab&refinement_paths%5B%5D=%2Fhomes&search_mode=flex_destinations_search&flexible_trip_lengths%5B%5D=one_week&location_search=MIN_MAP_BOUNDS&price_filter_input_type=0&category_tag=Tag%3A675&search_type=category_change\"\n",
    "    driver.get(bikroy_url)\n",
    "    time.sleep(3)\n",
    "  \n",
    "    for i in range(1,18):\n",
    "        try:\n",
    "            single_product=driver.find_elements(by=By.CLASS_NAME,value=\"ln2bl2p\")                      \n",
    "            print(len(single_product))\n",
    "          \n",
    "            single_url=single_product[0].get_attribute('href')\n",
    "            single_page_urls.append(single_url)\n",
    "            print(single_url)\n",
    "        except Exception as e:\n",
    "            print(e)\n",
    "            print(\"No details link\")\n",
    "         "
   ]
  },
  {
   "cell_type": "code",
   "execution_count": 226,
   "id": "9c222241",
   "metadata": {},
   "outputs": [
    {
     "name": "stdout",
     "output_type": "stream",
     "text": [
      "https://www.airbnb.com/rooms/33032352?adults=1&category_tag=Tag%3A675&children=0&infants=0&search_mode=flex_destinations_search&check_in=2022-10-12&check_out=2022-10-17&previous_page_section_name=1000&federated_search_id=fa681923-563c-4b19-9680-281aa4027640\n",
      "https://www.airbnb.com/rooms/33032352?adults=1&category_tag=Tag%3A675&children=0&infants=0&search_mode=flex_destinations_search&check_in=2022-10-12&check_out=2022-10-17&previous_page_section_name=1000&federated_search_id=fa681923-563c-4b19-9680-281aa4027640\n",
      "https://www.airbnb.com/rooms/33032352?adults=1&category_tag=Tag%3A675&children=0&infants=0&search_mode=flex_destinations_search&check_in=2022-10-12&check_out=2022-10-17&previous_page_section_name=1000&federated_search_id=fa681923-563c-4b19-9680-281aa4027640\n",
      "https://www.airbnb.com/rooms/33032352?adults=1&category_tag=Tag%3A675&children=0&infants=0&search_mode=flex_destinations_search&check_in=2022-10-12&check_out=2022-10-17&previous_page_section_name=1000&federated_search_id=fa681923-563c-4b19-9680-281aa4027640\n",
      "https://www.airbnb.com/rooms/33032352?adults=1&category_tag=Tag%3A675&children=0&infants=0&search_mode=flex_destinations_search&check_in=2022-10-12&check_out=2022-10-17&previous_page_section_name=1000&federated_search_id=fa681923-563c-4b19-9680-281aa4027640\n",
      "https://www.airbnb.com/rooms/33032352?adults=1&category_tag=Tag%3A675&children=0&infants=0&search_mode=flex_destinations_search&check_in=2022-10-12&check_out=2022-10-17&previous_page_section_name=1000&federated_search_id=fa681923-563c-4b19-9680-281aa4027640\n",
      "https://www.airbnb.com/rooms/33032352?adults=1&category_tag=Tag%3A675&children=0&infants=0&search_mode=flex_destinations_search&check_in=2022-10-12&check_out=2022-10-17&previous_page_section_name=1000&federated_search_id=fa681923-563c-4b19-9680-281aa4027640\n",
      "https://www.airbnb.com/rooms/33032352?adults=1&category_tag=Tag%3A675&children=0&infants=0&search_mode=flex_destinations_search&check_in=2022-10-12&check_out=2022-10-17&previous_page_section_name=1000&federated_search_id=fa681923-563c-4b19-9680-281aa4027640\n",
      "https://www.airbnb.com/rooms/33032352?adults=1&category_tag=Tag%3A675&children=0&infants=0&search_mode=flex_destinations_search&check_in=2022-10-12&check_out=2022-10-17&previous_page_section_name=1000&federated_search_id=fa681923-563c-4b19-9680-281aa4027640\n",
      "https://www.airbnb.com/rooms/33032352?adults=1&category_tag=Tag%3A675&children=0&infants=0&search_mode=flex_destinations_search&check_in=2022-10-12&check_out=2022-10-17&previous_page_section_name=1000&federated_search_id=fa681923-563c-4b19-9680-281aa4027640\n",
      "https://www.airbnb.com/rooms/33032352?adults=1&category_tag=Tag%3A675&children=0&infants=0&search_mode=flex_destinations_search&check_in=2022-10-12&check_out=2022-10-17&previous_page_section_name=1000&federated_search_id=fa681923-563c-4b19-9680-281aa4027640\n",
      "https://www.airbnb.com/rooms/33032352?adults=1&category_tag=Tag%3A675&children=0&infants=0&search_mode=flex_destinations_search&check_in=2022-10-12&check_out=2022-10-17&previous_page_section_name=1000&federated_search_id=fa681923-563c-4b19-9680-281aa4027640\n",
      "https://www.airbnb.com/rooms/33032352?adults=1&category_tag=Tag%3A675&children=0&infants=0&search_mode=flex_destinations_search&check_in=2022-10-12&check_out=2022-10-17&previous_page_section_name=1000&federated_search_id=fa681923-563c-4b19-9680-281aa4027640\n",
      "https://www.airbnb.com/rooms/33032352?adults=1&category_tag=Tag%3A675&children=0&infants=0&search_mode=flex_destinations_search&check_in=2022-10-12&check_out=2022-10-17&previous_page_section_name=1000&federated_search_id=fa681923-563c-4b19-9680-281aa4027640\n",
      "https://www.airbnb.com/rooms/33032352?adults=1&category_tag=Tag%3A675&children=0&infants=0&search_mode=flex_destinations_search&check_in=2022-10-12&check_out=2022-10-17&previous_page_section_name=1000&federated_search_id=fa681923-563c-4b19-9680-281aa4027640\n",
      "https://www.airbnb.com/rooms/33032352?adults=1&category_tag=Tag%3A675&children=0&infants=0&search_mode=flex_destinations_search&check_in=2022-10-12&check_out=2022-10-17&previous_page_section_name=1000&federated_search_id=fa681923-563c-4b19-9680-281aa4027640\n",
      "https://www.airbnb.com/rooms/33032352?adults=1&category_tag=Tag%3A675&children=0&infants=0&search_mode=flex_destinations_search&check_in=2022-10-12&check_out=2022-10-17&previous_page_section_name=1000&federated_search_id=fa681923-563c-4b19-9680-281aa4027640\n"
     ]
    }
   ],
   "source": [
    "for p in range(len(single_page_urls)):\n",
    "    print(single_page_urls[p])\n",
    "    "
   ]
  },
  {
   "cell_type": "code",
   "execution_count": null,
   "id": "24acd731",
   "metadata": {},
   "outputs": [],
   "source": []
  },
  {
   "cell_type": "code",
   "execution_count": 127,
   "id": "62205ff2",
   "metadata": {},
   "outputs": [],
   "source": [
    "driver.forward()"
   ]
  },
  {
   "cell_type": "code",
   "execution_count": 6,
   "id": "a92430fe",
   "metadata": {},
   "outputs": [],
   "source": [
    "# single_page_url=[p.get_attribute for p in single_product]\n",
    "# print(single_page_url[p])"
   ]
  },
  {
   "cell_type": "code",
   "execution_count": 144,
   "id": "5b4ee22d",
   "metadata": {},
   "outputs": [],
   "source": [
    "driver.get(f\"{single_page_urls[p]}\")"
   ]
  },
  {
   "cell_type": "code",
   "execution_count": 145,
   "id": "95f63fe1",
   "metadata": {},
   "outputs": [],
   "source": [
    "def title_scrap(driver):\n",
    "    try:\n",
    "        title_ele=driver.find_element(by=By.CLASS_NAME,value='_fecoyn4')\n",
    "        \n",
    "        print(title_ele.text)\n",
    "    except Exception as e:\n",
    "        print(e)\n",
    "        print(\"No title found\")"
   ]
  },
  {
   "cell_type": "code",
   "execution_count": 150,
   "id": "2a3c09e5",
   "metadata": {},
   "outputs": [],
   "source": [
    "def host_title_scrap(driver):\n",
    "    try:\n",
    "        host_title=driver.find_element(by=By.CLASS_NAME,value='_tqmy57').text\n",
    "        return host_title\n",
    "    except:\n",
    "        print(\"No title found\")"
   ]
  },
  {
   "cell_type": "code",
   "execution_count": 152,
   "id": "f7aafcd4",
   "metadata": {},
   "outputs": [],
   "source": [
    "def showmore(driver):\n",
    "    try:\n",
    "        driver.get_element(by=By.CLASS_NAME,value='c1d1a0n6').click()\n",
    "    except:\n",
    "        print(\"No button found\")"
   ]
  },
  {
   "cell_type": "code",
   "execution_count": 154,
   "id": "131d854b",
   "metadata": {},
   "outputs": [],
   "source": [
    "def desc_scrap(driver):\n",
    "    try:\n",
    "        price=driver.find_element(by=By.XPATH,value='//*[@id=\"site-content\"]/div/div[1]/div[3]/div/div[1]/div/div[4]/div/div[2]/div/span/span').text\n",
    "        return price\n",
    "    except:\n",
    "        print(\"No detail found\")"
   ]
  },
  {
   "cell_type": "code",
   "execution_count": 156,
   "id": "dc79e41b",
   "metadata": {},
   "outputs": [],
   "source": [
    "def review_scrap(driver):\n",
    "    try:\n",
    "        review_ele=driver.find_element(by=By.XPATH,value='//*[@id=\"site-content\"]/div/div[1]/div[4]/div/div/div/div[2]').text\n",
    "        return review_ele\n",
    "        print(review_ele.text)\n",
    "    except:\n",
    "        print(\"No title found\")"
   ]
  },
  {
   "cell_type": "code",
   "execution_count": 200,
   "id": "e57c9d74",
   "metadata": {},
   "outputs": [],
   "source": [
    "def price_scrap(driver):\n",
    "    try:\n",
    "        price_ele=driver.find_element(by=By.XPATH,value='//*[@id=\"site-content\"]/div/div[1]/div[3]/div/div[2]/div/div/div[1]/div/div/div/div/div/div/div[1]/div[1]')\n",
    "        return price_ele.text\n",
    "    except:\n",
    "        print(\"No title found\")"
   ]
  },
  {
   "cell_type": "code",
   "execution_count": 160,
   "id": "93a5475c",
   "metadata": {},
   "outputs": [],
   "source": [
    "def text_review_scrap(driver):\n",
    "    try:\n",
    "        text_review_ele=driver.find_element(by=By.XPATH,value='//*[@id=\"site-content\"]/div/div[1]/div[4]/div/div/div/div[2]/section').text\n",
    "        return text_review_ele\n",
    "    except:\n",
    "        print(\"No title found\")"
   ]
  },
  {
   "cell_type": "code",
   "execution_count": 162,
   "id": "df29f80e",
   "metadata": {},
   "outputs": [],
   "source": [
    "def img_scrap(driver):\n",
    "    try:\n",
    "        images=drvier.find_element(by=By.XPATH,value='//*[@id=\"site-content\"]/div/div[1]/div[1]/div[2]/div/div/div/div/div/div/div/div[1]/div/div[2]/div/div[1]/div/div/button/div/picture/img')\n",
    "        img_path=[]\n",
    "        \n",
    "        for img in images.find_elements(by=By.TAG_NAME,value='img'):\n",
    "            img_urls=img.get_attribute('src')\n",
    "            img_urls_firstname = '/'.join(img_urls.split('/')[:-1])\n",
    "            \n",
    "            img_urls_rename = img_urls_firstname + '?im_w=720'\n",
    "            img_name = '@'.join(img_urls_firstname.split('/'))\n",
    "            \n",
    "            r = requests.get(img_urls_rename)\n",
    "            i = Image.open(BytesIO(r.content))\n",
    "            i.save(f\"img/{img_name}.jpg\")\n",
    "            img_path.append(img_name)\n",
    "            \n",
    "        return img_path\n",
    "    except:\n",
    "        print('No image')\n"
   ]
  },
  {
   "cell_type": "code",
   "execution_count": 205,
   "id": "3fe5b1b9",
   "metadata": {},
   "outputs": [],
   "source": [
    "def open_driver():\n",
    "    op = webdriver.ChromeOptions()\n",
    "  \n",
    "    s = Service('chromedriver')\n",
    "    driver = webdriver.Chrome(service=s)\n",
    "    return driver"
   ]
  },
  {
   "cell_type": "code",
   "execution_count": 206,
   "id": "ab5ee9f2",
   "metadata": {},
   "outputs": [],
   "source": [
    "def product_scrap(driver,url):\n",
    "    driver.get(url)\n",
    "    time.sleep(5)\n",
    "\n",
    "    titles=title_scrap(driver)\n",
    "\n",
    "    price_var=price_scrap(driver)\n",
    "\n",
    "    showmore(driver)\n",
    "\n",
    "    description=desc_scrap(driver)\n",
    "\n",
    "    review_var=review_scrap(driver)\n",
    "    text_review=text_review_scrap(driver)\n",
    "  \n",
    "    return titles, text_review, price_var, image_desc, description,review_var"
   ]
  },
  {
   "cell_type": "code",
   "execution_count": 218,
   "id": "f303b4c9",
   "metadata": {},
   "outputs": [
    {
     "name": "stdout",
     "output_type": "stream",
     "text": [
      "Lily Beach Resort & Spa, Maldives, With Pool, AI\n",
      "No title found\n",
      "No button found\n",
      "No title found\n",
      "No title found\n",
      "ANGSANA VELAVARU DELUXE BEACHFRONT POOL VILLA\n",
      "No button found\n",
      "No title found\n",
      "Exclusive & Private Island Resort: Floral Island\n",
      "No button found\n"
     ]
    }
   ],
   "source": [
    "with open('mobile_product_urls.txt', 'r') as f:\n",
    "    try:\n",
    "        single_url = f.readlines()\n",
    "        titles_S, prices, img_lst,  feature_lst, desc_lst,text_reviews = (),(),(),(),(),()\n",
    "        cnt = 1\n",
    "    #     print(single_url)\n",
    "        for n in single_url:\n",
    "           \n",
    "            driver = open_driver()\n",
    "\n",
    "            titles, text_review, price_var, image_desc, description,review_var = product_scrap(driver, n)\n",
    "            if titles:\n",
    "                    titles_S.append(titles)\n",
    "                    text_reviews.append(text_review)\n",
    "                    prices.append(price_var)\n",
    "                    img_lst.append(image_desc)\n",
    "\n",
    "                    feature_lst.append(description)\n",
    "                    desc_lst.append(review_var) \n",
    "\n",
    "                    cnt += 1\n",
    "                    print(\"=============================================\")\n",
    "                    clear_output(wait=True)\n",
    "    except:\n",
    "        print(\"Nothing found\")"
   ]
  },
  {
   "cell_type": "code",
   "execution_count": 219,
   "id": "b294e6c1",
   "metadata": {},
   "outputs": [
    {
     "name": "stdout",
     "output_type": "stream",
     "text": [
      "<class 'tuple'>\n"
     ]
    }
   ],
   "source": [
    "print(type(titles_S))"
   ]
  },
  {
   "cell_type": "code",
   "execution_count": 220,
   "id": "8d0f206a",
   "metadata": {},
   "outputs": [
    {
     "data": {
      "text/html": [
       "<div>\n",
       "<style scoped>\n",
       "    .dataframe tbody tr th:only-of-type {\n",
       "        vertical-align: middle;\n",
       "    }\n",
       "\n",
       "    .dataframe tbody tr th {\n",
       "        vertical-align: top;\n",
       "    }\n",
       "\n",
       "    .dataframe thead th {\n",
       "        text-align: right;\n",
       "    }\n",
       "</style>\n",
       "<table border=\"1\" class=\"dataframe\">\n",
       "  <thead>\n",
       "    <tr style=\"text-align: right;\">\n",
       "      <th></th>\n",
       "      <th>Title</th>\n",
       "      <th>Price</th>\n",
       "      <th>Images</th>\n",
       "      <th>Feature</th>\n",
       "      <th>Description</th>\n",
       "      <th>URL</th>\n",
       "    </tr>\n",
       "  </thead>\n",
       "  <tbody>\n",
       "  </tbody>\n",
       "</table>\n",
       "</div>"
      ],
      "text/plain": [
       "Empty DataFrame\n",
       "Columns: [Title, Price, Images, Feature, Description, URL]\n",
       "Index: []"
      ]
     },
     "execution_count": 220,
     "metadata": {},
     "output_type": "execute_result"
    }
   ],
   "source": [
    "df_lst = [titles_S, prices, img_lst,  feature_lst, desc_lst,text_reviews]\n",
    "column_lst = ['Title', 'Price', 'Images', 'Feature', 'Description', 'URL']\n",
    "df = pd.DataFrame (df_lst).T\n",
    "df.columns = column_lst\n",
    "df.to_csv(f'csv/airbnb5.csv', index=False)\n",
    "df.head()"
   ]
  }
 ],
 "metadata": {
  "kernelspec": {
   "display_name": "Python 3 (ipykernel)",
   "language": "python",
   "name": "python3"
  },
  "language_info": {
   "codemirror_mode": {
    "name": "ipython",
    "version": 3
   },
   "file_extension": ".py",
   "mimetype": "text/x-python",
   "name": "python",
   "nbconvert_exporter": "python",
   "pygments_lexer": "ipython3",
   "version": "3.9.12"
  }
 },
 "nbformat": 4,
 "nbformat_minor": 5
}
